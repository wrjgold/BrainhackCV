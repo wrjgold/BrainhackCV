{
  "nbformat": 4,
  "nbformat_minor": 0,
  "metadata": {
    "colab": {
      "provenance": [],
      "gpuType": "T4"
    },
    "kernelspec": {
      "name": "python3",
      "display_name": "Python 3"
    },
    "language_info": {
      "name": "python"
    },
    "accelerator": "GPU"
  },
  "cells": [
    {
      "cell_type": "code",
      "execution_count": 1,
      "metadata": {
        "colab": {
          "base_uri": "https://localhost:8080/"
        },
        "id": "F-ZKZlfqhpdf",
        "outputId": "60f9a410-cf58-4fdb-fcf8-2c16c1431bdc"
      },
      "outputs": [
        {
          "output_type": "stream",
          "name": "stdout",
          "text": [
            "Mounted at /content/drive\n"
          ]
        }
      ],
      "source": [
        "from google.colab import drive\n",
        "drive.mount('/content/drive')"
      ]
    },
    {
      "cell_type": "code",
      "source": [
        "!git clone 'https://github.com/wrjgold/BrainhackCV.git'"
      ],
      "metadata": {
        "id": "XLZpkc4ln2VK"
      },
      "execution_count": null,
      "outputs": []
    },
    {
      "cell_type": "code",
      "source": [
        "import os\n",
        "os.chdir('BrainhackCV/Object Detection')"
      ],
      "metadata": {
        "id": "6IgV6N0vn8f6"
      },
      "execution_count": 3,
      "outputs": []
    },
    {
      "cell_type": "markdown",
      "source": [
        "Create the file directory for the dataset"
      ],
      "metadata": {
        "id": "U_Rr0vDUoOKJ"
      }
    },
    {
      "cell_type": "code",
      "source": [
        "!mkdir 'datasets'\n",
        "!mkdir 'datasets/labels'\n",
        "!mkdir 'datasets/images'\n"
      ],
      "metadata": {
        "id": "TmNy5P3aoQNr"
      },
      "execution_count": 4,
      "outputs": []
    },
    {
      "cell_type": "code",
      "source": [
        "!unzip \"/content/drive/MyDrive/Brainhack/train.zip\" -d \"datasets/images/trainSet\"\n",
        "\n",
        "!unzip \"/content/drive/MyDrive/Brainhack/train_labels.zip\" -d \"datasets/labels/trainSet\"\n",
        "\n",
        "!unzip \"/content/drive/MyDrive/Brainhack/val.zip\" -d \"datasets/images/valSet\"\n",
        "\n",
        "!unzip \"/content/drive/MyDrive/Brainhack/val_labels.zip\" -d \"datasets/labels/valSet\"\n",
        "\n",
        "!unzip \"/content/drive/MyDrive/Brainhack/test.zip\" -d \"datasets/images/testSet\"\n",
        "\n",
        "!unzip \"/content/drive/MyDrive/Brainhack/suspect.zip\" -d \"datasets/images/suspect\""
      ],
      "metadata": {
        "id": "eA_7gh3hooB4"
      },
      "execution_count": null,
      "outputs": []
    },
    {
      "cell_type": "markdown",
      "source": [
        "# Training the YOLOv8 model for Object Detection"
      ],
      "metadata": {
        "id": "RJZgiYShzjW8"
      }
    },
    {
      "cell_type": "code",
      "source": [
        "!pip install ultralytics #install ultralytics for yolov8"
      ],
      "metadata": {
        "id": "dsMwF6Q2_VIt"
      },
      "execution_count": null,
      "outputs": []
    },
    {
      "cell_type": "code",
      "source": [
        "!python3 reannotate.py #reannotates class labels for train and val to 0"
      ],
      "metadata": {
        "id": "ffJAqkzVZeRn"
      },
      "execution_count": null,
      "outputs": []
    },
    {
      "cell_type": "code",
      "source": [
        "from ultralytics import YOLO\n",
        "\n",
        "# Load a model\n",
        "# model = YOLO(\"yolov8n.yaml\")  # build a new model from scratch\n",
        "yolov8_model = YOLO(\"yolov8m.pt\")  # load a pretrained model (recommended for training)\n",
        "\n",
        "# Use the model\n",
        "yolov8_model.train(data=\"CV_dataset.yaml\", epochs=50)  # train the model\n",
        "# metrics = model.val()  # evaluate model performance on the validation set\n",
        "# success = model.export(format=\"onnx\")  # export the model to ONNX format\n",
        "# metrics = model.val(data=\"CV_val_dataset.yaml\") #validate on train set"
      ],
      "metadata": {
        "id": "xPv6L6kO_WXT"
      },
      "execution_count": null,
      "outputs": []
    },
    {
      "cell_type": "code",
      "source": [
        "#results = yolov8_model.predict(source=\"datasets/images/testSet\", save=True) #testing against test set"
      ],
      "metadata": {
        "id": "WmdJ7QN0qdvf"
      },
      "execution_count": null,
      "outputs": []
    },
    {
      "cell_type": "code",
      "source": [
        "os.chdir('..')"
      ],
      "metadata": {
        "id": "pnCv-VUozqI1"
      },
      "execution_count": 9,
      "outputs": []
    },
    {
      "cell_type": "markdown",
      "source": [
        "# Training the Siamese Network for reID"
      ],
      "metadata": {
        "id": "BowYmDIpznGx"
      }
    },
    {
      "cell_type": "code",
      "source": [
        "!unzip \"/content/drive/MyDrive/Brainhack/train.zip\" -d \"train_images\"\n",
        "\n",
        "!unzip \"/content/drive/MyDrive/Brainhack/train_labels.zip\" -d \"train_labels\"\n",
        "\n",
        "!unzip \"/content/drive/MyDrive/Brainhack/val.zip\" -d \"val_images\"\n",
        "\n",
        "!unzip \"/content/drive/MyDrive/Brainhack/val_labels.zip\" -d \"val_labels\"\n",
        "\n",
        "!unzip \"/content/drive/MyDrive/Brainhack/test.zip\" -d \"test_images\"\n",
        "\n",
        "!unzip \"/content/drive/MyDrive/Brainhack/suspects.zip\" -d \"suspects\""
      ],
      "metadata": {
        "id": "oyYhrPHpmeel"
      },
      "execution_count": null,
      "outputs": []
    },
    {
      "cell_type": "code",
      "execution_count": 11,
      "metadata": {
        "scrolled": true,
        "id": "IaTQ6NRk3E-y"
      },
      "outputs": [],
      "source": [
        "train_images_path = 'train_images'\n",
        "train_labels_path = 'train_labels'\n",
        "val_images_path = 'val_images'\n",
        "val_labels_path = 'val_labels'"
      ]
    },
    {
      "cell_type": "code",
      "execution_count": 12,
      "metadata": {
        "ExecuteTime": {
          "end_time": "2023-05-27T06:32:23.742953+00:00",
          "start_time": "2023-05-27T06:32:21.720327+00:00"
        },
        "jupyter": {
          "outputs_hidden": false,
          "source_hidden": false
        },
        "noteable": {
          "cell_type": "code"
        },
        "scrolled": true,
        "id": "kC4Qxeja3E-y"
      },
      "outputs": [],
      "source": [
        "import cv2\n",
        "import os\n",
        "import matplotlib.pyplot as plt\n",
        "import numpy as np"
      ]
    },
    {
      "cell_type": "code",
      "execution_count": 13,
      "metadata": {
        "ExecuteTime": {
          "end_time": "2023-05-27T06:32:24.746973+00:00",
          "start_time": "2023-05-27T06:32:24.588152+00:00"
        },
        "jupyter": {
          "outputs_hidden": false,
          "source_hidden": false
        },
        "noteable": {
          "cell_type": "code"
        },
        "scrolled": true,
        "id": "Ia5HZoMy3E-y"
      },
      "outputs": [],
      "source": [
        "import os\n",
        "\n",
        "train_crops_path = \"train_crops\"\n",
        "num_plushies = 200\n",
        "os.mkdir(train_crops_path)\n",
        "\n",
        "for i in range(num_plushies):\n",
        "    os.mkdir(os.path.join(train_crops_path, str(i)))"
      ]
    },
    {
      "cell_type": "code",
      "execution_count": 14,
      "metadata": {
        "ExecuteTime": {
          "end_time": "2023-05-27T06:32:24.906286+00:00",
          "start_time": "2023-05-27T06:32:24.751827+00:00"
        },
        "jupyter": {
          "outputs_hidden": false,
          "source_hidden": false
        },
        "noteable": {
          "cell_type": "code"
        },
        "scrolled": true,
        "id": "rHdsNx9B3E-y"
      },
      "outputs": [],
      "source": [
        "val_crops_path = \"val_crops\"\n",
        "num_plushies = 10\n",
        "os.mkdir(val_crops_path)\n",
        "\n",
        "for i in range(num_plushies):\n",
        "    os.mkdir(os.path.join(val_crops_path, str(i)))"
      ]
    },
    {
      "cell_type": "markdown",
      "source": [
        "# Crop the plushie from images using bounding boxes\n"
      ],
      "metadata": {
        "id": "xxWYyUjSpGPO"
      }
    },
    {
      "cell_type": "code",
      "execution_count": 15,
      "metadata": {
        "ExecuteTime": {
          "end_time": "2023-05-27T06:34:41.764256+00:00",
          "start_time": "2023-05-27T06:32:24.910936+00:00"
        },
        "jupyter": {
          "outputs_hidden": true,
          "source_hidden": false
        },
        "noteable": {
          "cell_type": "code"
        },
        "scrolled": true,
        "id": "7b9cbf99-f1cb-4e41-8c0c-09d325ce58c3"
      },
      "outputs": [],
      "source": [
        "import cv2\n",
        "import numpy as np\n",
        "import pandas as pd\n",
        "import os\n",
        "\n",
        "images_path = train_images_path\n",
        "labels_path = train_labels_path\n",
        "annotated_images_path = train_crops_path\n",
        "\n",
        "\n",
        "for label_name in os.listdir(labels_path):\n",
        "    if label_name[-4:] != \".txt\":\n",
        "        continue\n",
        "    image_name = label_name[:-4] + \".png\"\n",
        "    # print(\"Checking\", image_name)\n",
        "\n",
        "    image_path = os.path.join(images_path, image_name)\n",
        "    label_path = os.path.join(labels_path, label_name)\n",
        "\n",
        "    df = pd.read_csv(label_path, delim_whitespace=True, header=None)\n",
        "    df.columns = [\"cat\", \"xc\", \"yc\", \"w\", \"h\"]\n",
        "\n",
        "    img = cv2.imread(image_path)\n",
        "    img_h, img_w = img.shape[:2]\n",
        "\n",
        "    for i in range(df.shape[0]):\n",
        "        bb = df.iloc[i]\n",
        "        cat = str(int(bb[\"cat\"]))\n",
        "        tl = (int((bb[\"xc\"] - bb[\"w\"]/2) * img_w), int((bb[\"yc\"] - bb[\"h\"]/2) * img_h))\n",
        "        br = (int((bb[\"xc\"] + bb[\"w\"]/2) * img_w), int((bb[\"yc\"] + bb[\"h\"]/2) * img_h))\n",
        "\n",
        "        cropped_img = img[tl[1]:br[1], tl[0]:br[0]]\n",
        "        annotated_img_name = f\"{cat}_{len(os.listdir(os.path.join(annotated_images_path, cat)))}.png\"\n",
        "        cv2.imwrite(os.path.join(annotated_images_path, cat, annotated_img_name), cropped_img)\n"
      ]
    },
    {
      "cell_type": "code",
      "execution_count": 16,
      "metadata": {
        "ExecuteTime": {
          "end_time": "2023-05-27T06:35:00.615721+00:00",
          "start_time": "2023-05-27T06:34:41.773843+00:00"
        },
        "jupyter": {
          "outputs_hidden": true,
          "source_hidden": false
        },
        "noteable": {
          "cell_type": "code"
        },
        "scrolled": true,
        "id": "36c1f6c3-f5fc-4007-aa30-36af6bb15aa4"
      },
      "outputs": [],
      "source": [
        "import cv2\n",
        "import numpy as np\n",
        "import pandas as pd\n",
        "import os\n",
        "\n",
        "images_path = val_images_path\n",
        "labels_path = val_labels_path\n",
        "annotated_images_path = val_crops_path\n",
        "\n",
        "\n",
        "for label_name in os.listdir(labels_path):\n",
        "    if label_name[-4:] != \".txt\":\n",
        "        continue\n",
        "    image_name = label_name[:-4] + \".png\"\n",
        "#     print(\"Checking\", image_name)\n",
        "\n",
        "    image_path = os.path.join(images_path, image_name)\n",
        "    label_path = os.path.join(labels_path, label_name)\n",
        "\n",
        "    df = pd.read_csv(label_path, delim_whitespace=True, header=None)\n",
        "    df.columns = [\"cat\", \"xc\", \"yc\", \"w\", \"h\"]\n",
        "\n",
        "    img = cv2.imread(image_path)\n",
        "    img_h, img_w = img.shape[:2]\n",
        "\n",
        "    for i in range(df.shape[0]):\n",
        "        bb = df.iloc[i]\n",
        "        cat = str(int(bb[\"cat\"]))\n",
        "        tl = (int((bb[\"xc\"] - bb[\"w\"]/2) * img_w), int((bb[\"yc\"] - bb[\"h\"]/2) * img_h))\n",
        "        br = (int((bb[\"xc\"] + bb[\"w\"]/2) * img_w), int((bb[\"yc\"] + bb[\"h\"]/2) * img_h))\n",
        "\n",
        "        cropped_img = img[tl[1]:br[1], tl[0]:br[0]]\n",
        "        annotated_img_name = f\"{cat}_{len(os.listdir(os.path.join(annotated_images_path, cat)))}.png\"\n",
        "        cv2.imwrite(os.path.join(annotated_images_path, cat, annotated_img_name), cropped_img)\n"
      ]
    },
    {
      "cell_type": "code",
      "execution_count": 17,
      "metadata": {
        "ExecuteTime": {
          "end_time": "2023-05-27T06:35:01.038225+00:00",
          "start_time": "2023-05-27T06:35:00.621233+00:00"
        },
        "jupyter": {
          "outputs_hidden": false,
          "source_hidden": false
        },
        "noteable": {
          "cell_type": "code"
        },
        "scrolled": true,
        "id": "3f9101f9-54ac-466f-828e-c6e86b122834",
        "outputId": "86b54a5a-bdcc-4e80-f11a-e8264439524d",
        "colab": {
          "base_uri": "https://localhost:8080/",
          "height": 452
        }
      },
      "outputs": [
        {
          "output_type": "execute_result",
          "data": {
            "text/plain": [
              "<matplotlib.image.AxesImage at 0x7fde4ceceaa0>"
            ]
          },
          "metadata": {},
          "execution_count": 17
        },
        {
          "output_type": "display_data",
          "data": {
            "text/plain": [
              "<Figure size 640x480 with 1 Axes>"
            ],
            "image/png": "[encoded data removed]"
          },
          "metadata": {}
        }
      ],
      "source": [
        "image = cv2.imread(f'{train_crops_path}/1/1_22.png')\n",
        "plt.imshow(image)"
      ]
    },
    {
      "cell_type": "markdown",
      "source": [
        "# Creating LFW file format for labelling matches and mismatches"
      ],
      "metadata": {
        "id": "hSLq4chzpcfU"
      }
    },
    {
      "cell_type": "markdown",
      "source": [
        "# Creating LFW File for Triplet Loss\n",
        "class1 anchor positive class2 negative <br>\n",
        "1 image_0001 image_0010 26 image_0009"
      ],
      "metadata": {
        "id": "a__ZqZx_Xv2G"
      }
    },
    {
      "cell_type": "code",
      "source": [
        "import os\n",
        "import random\n",
        "\n",
        "counts = {}\n",
        "\n",
        "crops_path = train_crops_path\n",
        "num_plushies = 200\n",
        "\n",
        "for i in range(num_plushies):\n",
        "    counts[i] = len(os.listdir(os.path.join(crops_path, str(i))))\n",
        "print(counts)\n",
        "\n",
        "lines = []\n",
        "\n",
        "def add_triplet(plushie, anchor, positive, plushie1, negative):\n",
        "    line = f\"{plushie} {anchor} {positive} {plushie1} {negative}\\n\"\n",
        "    lines.append(line)\n",
        "\n",
        "\n",
        "#hyperparameter\n",
        "len_data = 1000\n",
        "\n",
        "for i in range(len_data):\n",
        "    # print(i)\n",
        "    plushie = random.choice(list(counts.keys()))\n",
        "    plushie1 = random.choice(list(counts.keys()))\n",
        "\n",
        "    while plushie == plushie1:\n",
        "      plushie1 = random.choice(list(counts.keys()))\n",
        "\n",
        "    anchor_num, positive_num, negative_num = random.randrange(counts[plushie]), random.randrange(counts[plushie]), random.randrange(counts[plushie1])\n",
        "\n",
        "    while not (os.path.exists(f\"{crops_path}/{plushie}/{plushie}_{anchor_num}.png\") and os.path.exists(f\"{crops_path}/{plushie}/{plushie}_{positive_num}.png\") and os.path.exists(f\"{crops_path}/{plushie1}/{plushie1}_{negative_num}.png\")):\n",
        "        print(anchor_num, positive_num, plushie, negative_num, plushie1)\n",
        "        anchor_num, positive_num, negative_num = random.randrange(counts[plushie]), random.randrange(counts[plushie]), random.randrange(counts[plushie1])\n",
        "    \n",
        "    add_triplet(plushie, anchor_num, positive_num, plushie1, negative_num)\n",
        "\n",
        "\n",
        "f = open(\"plushie_pairs_train.txt\", \"a\")\n",
        "f.writelines(lines)\n",
        "f.close()"
      ],
      "metadata": {
        "id": "YK3LtD-aXvcd"
      },
      "execution_count": null,
      "outputs": []
    },
    {
      "cell_type": "markdown",
      "source": [
        "# LFW for Validation Set Triplet Loss"
      ],
      "metadata": {
        "id": "HIKqyNBsZ4PU"
      }
    },
    {
      "cell_type": "code",
      "source": [
        "import os\n",
        "import random\n",
        "\n",
        "counts = {}\n",
        "\n",
        "crops_path = val_crops_path\n",
        "num_plushies = 10\n",
        "\n",
        "for i in range(num_plushies):\n",
        "    counts[i] = len(os.listdir(os.path.join(crops_path, str(i))))\n",
        "print(counts)\n",
        "\n",
        "lines = []\n",
        "\n",
        "def add_triplet(plushie, anchor, positive, plushie1, negative):\n",
        "    line = f\"{plushie} {anchor} {positive} {plushie1} {negative}\\n\"\n",
        "    lines.append(line)\n",
        "\n",
        "\n",
        "#hyperparameter\n",
        "len_data = 50\n",
        "\n",
        "for i in range(len_data):\n",
        "    # print(i)\n",
        "    plushie = random.choice(list(counts.keys()))\n",
        "    plushie1 = random.choice(list(counts.keys()))\n",
        "\n",
        "    while plushie == plushie1:\n",
        "      plushie1 = random.choice(list(counts.keys()))\n",
        "\n",
        "    anchor_num, positive_num, negative_num = random.randrange(counts[plushie]), random.randrange(counts[plushie]), random.randrange(counts[plushie1])\n",
        "\n",
        "    while not (os.path.exists(f\"{crops_path}/{plushie}/{plushie}_{anchor_num}.png\") and os.path.exists(f\"{crops_path}/{plushie}/{plushie}_{positive_num}.png\") and os.path.exists(f\"{crops_path}/{plushie1}/{plushie1}_{negative_num}.png\")):\n",
        "        print(anchor_num, positive_num, plushie, negative_num, plushie1)\n",
        "        anchor_num, positive_num, negative_num = random.randrange(counts[plushie]), random.randrange(counts[plushie]), random.randrange(counts[plushie1])\n",
        "    \n",
        "    add_triplet(plushie, anchor_num, positive_num, plushie1, negative_num)\n",
        "\n",
        "\n",
        "f = open(\"plushie_pairs_val.txt\", \"a\")\n",
        "f.writelines(lines)\n",
        "f.close()"
      ],
      "metadata": {
        "id": "pl8b7SQlZwTH"
      },
      "execution_count": null,
      "outputs": []
    },
    {
      "cell_type": "markdown",
      "source": [
        "# Helper Function"
      ],
      "metadata": {
        "id": "OPzk5PVzpuId"
      }
    },
    {
      "cell_type": "code",
      "execution_count": 20,
      "metadata": {
        "ExecuteTime": {
          "end_time": "2023-05-27T06:35:09.330471+00:00",
          "start_time": "2023-05-27T06:35:05.236864+00:00"
        },
        "jupyter": {
          "outputs_hidden": false,
          "source_hidden": false
        },
        "noteable": {
          "cell_type": "code"
        },
        "scrolled": true,
        "id": "41a3a7f1-5ad9-435d-82c3-6c45a4f8b2b3"
      },
      "outputs": [],
      "source": [
        "import torch\n",
        "import matplotlib.pyplot as plt\n",
        "\n",
        "def get_default_device():\n",
        "    if torch.cuda.is_available():\n",
        "        return torch.device('cuda')\n",
        "    else:\n",
        "        return torch.device('cpu')\n",
        "    \n",
        "    \n",
        "def to_device(data, device):\n",
        "    if isinstance(data, (list, tuple)):\n",
        "        return [to_device(x, device) for x in data]\n",
        "    return data.to(device, non_blocking=True)\n",
        "\n",
        "def show_img(img1, img2):\n",
        "    axs = plt.figure(figsize=(9, 9)).subplots(1, 2)\n",
        "    axs[0].imshow(img1)\n",
        "    axs[1].imshow(img2)\n",
        "\n",
        "\n",
        "def accuracy(preds, labels):\n",
        "    preds = torch.flatten(preds)\n",
        "    return torch.sum(preds == labels).item() / len(labels)\n",
        "\n",
        "\n",
        "class DeviceDataLoader():\n",
        "    def __init__(self, dl, device):\n",
        "        self.dl = dl\n",
        "        self.device = device\n",
        "    \n",
        "    def __iter__(self):\n",
        "        for batch in self.dl:\n",
        "            yield to_device(batch, self.device)\n",
        "    \n",
        "    def __len__(self):\n",
        "        return len(self.dl)"
      ]
    },
    {
      "cell_type": "markdown",
      "source": [
        "# Transforming the Data\n",
        "Resizing the images and preprocessing"
      ],
      "metadata": {
        "id": "3lgwxv8Kp2YF"
      }
    },
    {
      "cell_type": "code",
      "execution_count": 21,
      "metadata": {
        "ExecuteTime": {
          "end_time": "2023-05-27T06:35:09.808349+00:00",
          "start_time": "2023-05-27T06:35:09.342982+00:00"
        },
        "jupyter": {
          "outputs_hidden": false,
          "source_hidden": false
        },
        "noteable": {
          "cell_type": "code"
        },
        "scrolled": true,
        "id": "71d1f11c-1224-4adc-8e80-34cc168a6d66"
      },
      "outputs": [],
      "source": [
        "import torchvision.transforms as tt\n",
        "import cv2\n",
        "\n",
        "class BGR2RGB:\n",
        "    def __call__(self, image):\n",
        "        #image = image.numpy()\n",
        "        #print(f'type of image {type(image)}')\n",
        "        image = cv2.cvtColor(image, cv2.COLOR_BGR2RGB)\n",
        "        #image = torch.from_numpy(image)\n",
        "        return image\n",
        "\n",
        "class SquarePad:\n",
        "    def __call__(self, image):\n",
        "        max_wh = max(image.shape[:2])\n",
        "        p_left, p_top = [(max_wh - s) // 2 for s in image.shape[:2]]\n",
        "        p_right, p_bottom = [max_wh - (s+pad) for s, pad in zip(image.shape[:2], [p_left, p_top])]\n",
        "        return cv2.copyMakeBorder(image, p_top, p_bottom, p_left, p_right, cv2.BORDER_CONSTANT, None, value = 0)\n",
        "\n",
        "\n",
        "class Resize():\n",
        "    def __init__(self, output_size=(128, 128)):\n",
        "        assert isinstance(output_size, (tuple))\n",
        "        self.output_size = output_size\n",
        "\n",
        "    def __call__(self, image):\n",
        "        return cv2.resize(image, self.output_size, interpolation = cv2.INTER_LINEAR)\n",
        "\n",
        "class Transforms:\n",
        "    def __init__(self):\n",
        "        self.transform = tt.Compose([BGR2RGB(), \n",
        "                        SquarePad(),\n",
        "                        Resize((128, 128)),\n",
        "                        tt.ToTensor(),\n",
        "                        tt.Normalize(0, 0.5)])\n",
        "\n",
        "    def __call__(self, image):\n",
        "        return self.transform(image)\n",
        "    "
      ]
    },
    {
      "cell_type": "markdown",
      "source": [
        "# Creating the Model"
      ],
      "metadata": {
        "id": "1qbc9wlibHro"
      }
    },
    {
      "cell_type": "markdown",
      "source": [
        "# MODEL FOR TRIPLET LOSS"
      ],
      "metadata": {
        "id": "6t5_3SIveloh"
      }
    },
    {
      "cell_type": "code",
      "source": [
        "from torchvision.models import resnet50, ResNet50_Weights\n",
        "from torch import cat\n",
        "import torch.nn as nn\n",
        "\n",
        "class SiameseNetwork(nn.Module):\n",
        "    \"\"\"\n",
        "        https://github.com/pytorch/examples/tree/main/siamese_network\n",
        "\n",
        "        BCE Loss\n",
        "    \"\"\"\n",
        "    def __init__(self):\n",
        "        super(SiameseNetwork, self).__init__()\n",
        "        self.resnet = resnet50(ResNet50_Weights.DEFAULT)\n",
        "\n",
        "        for ct, child in enumerate(self.resnet.children()):\n",
        "            if ct < 6:\n",
        "                for param in child.parameters():\n",
        "                    param.requires_grad = False\n",
        "\n",
        "\n",
        "        self.fc_in_features = self.resnet.fc.in_features\n",
        "        \n",
        "        # remove the last layer of resnet18 (linear layer which is before avgpool layer)\n",
        "        self.resnet = nn.Sequential(*(list(self.resnet.children())[:-1]))\n",
        "\n",
        "        # add linear layers to compare between the features of the two images\n",
        "        self.fc = nn.Sequential(\n",
        "            nn.Linear(self.fc_in_features, 256),\n",
        "            nn.ReLU(inplace=True),\n",
        "            nn.Linear(256, 1), #MIGHT WANT A MORE COMPLEX VECTOR OUTPUT\n",
        "        )\n",
        "\n",
        "\n",
        "    def get_embeddings(self, x):\n",
        "        output = self.resnet(x)\n",
        "        output = output.view(output.size()[0], -1)\n",
        "        return output\n",
        "\n",
        "    def forward(self, input1, input2, input3=None):\n",
        "        output1 = self.get_embeddings(input1)\n",
        "        output1 = self.fc(output1)\n",
        "        output2 = self.get_embeddings(input2)\n",
        "        output2 = self.fc(output2)\n",
        "\n",
        "        #for training\n",
        "        if input3 is not None:\n",
        "          output3 = self.get_embeddings(input3)\n",
        "          output3 = self.fc(output3)\n",
        "        else:\n",
        "          output3 = None\n",
        "        #output = cat((output1, output2), 1)\n",
        "        #output = self.fc(output) #the output of the Siamese Network is a number;\n",
        "        \n",
        "        #return output\n",
        "        return output1, output2, output3"
      ],
      "metadata": {
        "id": "hSmDUUeLekGn"
      },
      "execution_count": 22,
      "outputs": []
    },
    {
      "cell_type": "markdown",
      "source": [
        "# Creating Dataset for Triplet Loss"
      ],
      "metadata": {
        "id": "lfrUxR91bOcq"
      }
    },
    {
      "cell_type": "code",
      "source": [
        "import os\n",
        "import matplotlib.pyplot as plt\n",
        "\n",
        "from PIL import Image\n",
        "import cv2\n",
        "\n",
        "from torch.utils.data import Dataset\n",
        "\n",
        "class PlushieTrainDataset(Dataset):\n",
        "    \n",
        "    def __init__(self, filepath, img_dir, transform=None):\n",
        "        self.samples = []\n",
        "        self.img_dir = img_dir\n",
        "        self.transform = transform\n",
        "\n",
        "        with open(filepath, 'r') as f:\n",
        "            self.samples = [line.strip() for line in f]\n",
        "\n",
        "    def __len__(self):\n",
        "        return len(self.samples)\n",
        "\n",
        "    def __getitem__(self, i):\n",
        "        line = self.samples[i].split()\n",
        "        anchor_name, anchor_num, positive_num, negative_name, negative_num = line\n",
        "        \n",
        "        anchor = cv2.imread(os.path.join(self.img_dir, str(anchor_name), f\"{anchor_name}_{anchor_num}.png\"))\n",
        "        positive = cv2.imread(os.path.join(self.img_dir, anchor_name, f\"{anchor_name}_{positive_num}.png\"))\n",
        "        negative = cv2.imread(os.path.join(self.img_dir, negative_name, f\"{negative_name}_{negative_num}.png\"))\n",
        "        \n",
        "        if self.transform:\n",
        "            anchor = self.transform(anchor)\n",
        "            positive = self.transform(positive)\n",
        "            negative = self.transform(negative)\n",
        "\n",
        "        return anchor, positive, negative\n"
      ],
      "metadata": {
        "id": "vLNigqs8bSER"
      },
      "execution_count": 23,
      "outputs": []
    },
    {
      "cell_type": "markdown",
      "source": [
        "# Training the Model"
      ],
      "metadata": {
        "id": "MCR5HwzDcSWe"
      }
    },
    {
      "cell_type": "markdown",
      "source": [
        "Contrastive Loss"
      ],
      "metadata": {
        "id": "dELGaK_jcpl6"
      }
    },
    {
      "cell_type": "code",
      "source": [
        "import numpy as np\n",
        "import torch\n",
        "import torch.nn.functional as F\n",
        "\n",
        "def infer(model, img, target, transform = None):\n",
        "    device = torch.device('cuda' if torch.cuda.is_available() else 'cpu')\n",
        "    if transform is not None:\n",
        "      output1, output2 = transform(img).unsqueeze(0), transform(target).unsqueeze(0)\n",
        "    else:\n",
        "      output1, output2 = img, target\n",
        "    #generate the embedding vectors using loaded model\n",
        "    output1,output2,_ = model(output1.to(device),output2.to(device)) \n",
        "\n",
        "    #calculating euclidean distance and determining if match\n",
        "    euclidean_distance = F.pairwise_distance(output1, output2)\n",
        "    #print(f'eucl {euclidean_distance}')\n",
        "\n",
        "    pred = torch.Tensor(np.array([1 if dist < 1 else 0 for dist in euclidean_distance]))\n",
        "\n",
        "    return pred, euclidean_distance"
      ],
      "metadata": {
        "id": "bEeGYUoXcPWg"
      },
      "execution_count": 24,
      "outputs": []
    },
    {
      "cell_type": "markdown",
      "source": [
        "# TRIPLET LOSS"
      ],
      "metadata": {
        "id": "LTfcZ9HreVzJ"
      }
    },
    {
      "cell_type": "markdown",
      "source": [
        "Triplet Loss"
      ],
      "metadata": {
        "id": "Sja6eo2mcrJD"
      }
    },
    {
      "cell_type": "code",
      "source": [
        "def loss_batch(model, loss_func, anchor, positive=None, negative=None, opt=None, metric=None): # Update model weights and return metrics given xb, yb, model\n",
        "    \n",
        "    \n",
        "\n",
        "    #if it is in evaluation phase, no need to calculate triplet loss\n",
        "    metric_result = None\n",
        "    if metric is not None:\n",
        "        pos_pred, _ = infer(model, anchor, positive) #ISSUE -> RESULT IS AN INTEGER, MIGHT BE DUE TO NUMPY CONVERSION\n",
        "        pos_pred = pos_pred.cuda()\n",
        "        neg_pred, _ = infer(model, anchor, negative) #ISSUE -> RESULT IS AN INTEGER, MIGHT BE DUE TO NUMPY CONVERSION\n",
        "        neg_pred = neg_pred.cuda()\n",
        "        result = torch.cat((pos_pred,neg_pred)).cuda()\n",
        "        pos_label = torch.from_numpy(np.ones(len(positive)))\n",
        "        neg_label = torch.from_numpy(np.zeros(len(negative)))\n",
        "        label = torch.cat((pos_label, neg_label)).cuda()\n",
        "        #print(f'results {result}') #ISSUE WITH RESULT -> RESULT IS AN INTEGER\n",
        "        metric_result = metric(result, label)\n",
        "\n",
        "\n",
        "    preds = model(anchor, positive, negative)\n",
        "    loss = loss_func(preds[0], preds[1], preds[2]) #triplet loss\n",
        "\n",
        "    if opt is not None:\n",
        "        loss.backward()\n",
        "        opt.step()\n",
        "        opt.zero_grad()\n",
        "\n",
        "    return loss.item(), len(anchor), metric_result\n",
        "\n",
        "\n",
        "def fit(epochs, model, loss_func, train_dl, val_dl, opt_func=torch.optim.SGD, lr=0.01, decay = 0.00001, early_stopper=None, metric=None):\n",
        "    train_losses, val_losses, val_metrics = [] , [], []\n",
        "    \n",
        "    opt = opt_func(model.parameters(), lr=lr, weight_decay = decay)\n",
        "    earlyStopper = early_stopper(patience=5, min_delta=0.01)\n",
        "    scheduler = torch.optim.lr_scheduler.StepLR(opt, step_size=10, gamma=0.0005)\n",
        "    for epoch in range(1, epochs+1):\n",
        "        model.train() # Setting for pytorch - training mode\n",
        "        for anchor,positive,negative in train_dl:\n",
        "            train_loss, _, _ = loss_batch(model, loss_func, anchor, positive=positive, negative=negative, opt=opt) # update weights\n",
        "            print(f'train loss{train_loss}')\n",
        "        scheduler.step()    \n",
        "        model.eval() # Setting - eval mode\n",
        "        val_loss, total, val_metric = evaluate(model, loss_func, val_dl, metric)\n",
        "        \n",
        "        train_losses.append(train_loss)\n",
        "        val_losses.append(val_loss)\n",
        "        val_metrics.append(val_metric)\n",
        "        \n",
        "        if metric is None:\n",
        "            print(\"Epoch [{}], train_loss: {:.4f}, val_loss: {:.4f}\".format(\n",
        "            epoch, train_loss, val_loss))\n",
        "        else:\n",
        "            print(\"Epoch [{}], train_loss: {:.4f}, val_loss: {:.4f}, val_{}: {:.4f}\".format(\n",
        "            epoch, train_loss, val_loss, metric.__name__, val_metric))\n",
        "        if earlyStopper.early_stop(val_loss):             \n",
        "            break   \n",
        "    return train_losses, val_losses, val_metrics\n",
        "\n",
        "\n",
        "def evaluate(model, loss_func, val_dl, metric=None):\n",
        "    with torch.no_grad():\n",
        "        results = [loss_batch(model, loss_func, anchor, positive=positive, negative=negative, metric=metric) for anchor, positive, negative in val_dl]\n",
        "        \n",
        "        losses, nums, metrics = zip(*results)\n",
        "        total = np.sum(nums)\n",
        "        \n",
        "        avg_loss = np.sum(np.multiply(losses, nums)) / total\n",
        "        \n",
        "        avg_metric = None\n",
        "        if metric is not None:\n",
        "            avg_metric = np.sum(np.multiply(metrics, nums)) / total\n",
        "            \n",
        "        print(f'validation loss {avg_loss}')\n",
        "        \n",
        "        return avg_loss, total, avg_metric\n",
        "\n",
        "class EarlyStopper:\n",
        "    def __init__(self, patience=1, min_delta=0):\n",
        "        self.patience = patience\n",
        "        self.min_delta = min_delta\n",
        "        self.counter = 0\n",
        "        self.min_validation_loss = np.inf\n",
        "\n",
        "    def early_stop(self, validation_loss):\n",
        "        if validation_loss < self.min_validation_loss:\n",
        "            self.min_validation_loss = validation_loss\n",
        "            self.counter = 0\n",
        "        elif validation_loss > (self.min_validation_loss + self.min_delta):\n",
        "            self.counter += 1\n",
        "            if self.counter >= self.patience:\n",
        "                return True\n",
        "        return False\n",
        "\n",
        "train_filepath = \"plushie_pairs_train.txt\"\n",
        "train_img_dir = train_crops_path\n",
        "val_filepath = \"plushie_pairs_val.txt\"\n",
        "val_img_dir = val_crops_path\n",
        "train_bs = 256\n",
        "test_bs = 32\n",
        "num_epochs = 15\n",
        "lr = 0.005\n",
        "weight_decay = 0.0001 #regularisation\n",
        "\n",
        "torch.autograd.set_detect_anomaly(True)\n",
        "\n",
        "transform = Transforms()\n",
        "train_dataset = PlushieTrainDataset(filepath=train_filepath, img_dir=train_img_dir, transform=transform)\n",
        "valid_dataset = PlushieTrainDataset(filepath=val_filepath, img_dir=val_img_dir, transform=transform)\n",
        "network = SiameseNetwork()\n",
        "\n",
        "\n",
        "print(\"The length of Train set is {}\".format(len(train_dataset)))\n",
        "print(\"The length of Valid set is {}\".format(len(valid_dataset)))\n",
        "\n",
        "train_dl = torch.utils.data.DataLoader(train_dataset, batch_size=train_bs, shuffle=True, num_workers=4)\n",
        "val_dl = torch.utils.data.DataLoader(valid_dataset, batch_size=test_bs, shuffle=True, num_workers=4)\n",
        "\n",
        "device = get_default_device()\n",
        "train_dl = DeviceDataLoader(train_dl, device)\n",
        "val_dl = DeviceDataLoader(val_dl, device)\n",
        "to_device(network, device)\n",
        "\n",
        "criterion = torch.nn.TripletMarginLoss()\n",
        "optimizer = torch.optim.Adam\n",
        "early_stopper = EarlyStopper\n",
        "\n",
        "\n",
        "train_losses, val_losses, val_metrics = fit(num_epochs, network, criterion, \n",
        "                                        train_dl, val_dl, optimizer, lr, weight_decay, early_stopper, accuracy)\n",
        "\n",
        "torch.save(network.state_dict(), 'reid_model_triplet5.pt')"
      ],
      "metadata": {
        "id": "_kVKiPVoeVVm"
      },
      "execution_count": null,
      "outputs": []
    },
    {
      "cell_type": "code",
      "source": [
        "import torch\n",
        "import cv2\n",
        "import csv\n",
        "import pandas as pd\n",
        "\n",
        "import os\n",
        "from ultralytics import YOLO\n",
        "\n",
        "yolo_model = yolov8_model #loading trained YOLO\n",
        "\n",
        "reid_model = network\n",
        "\n",
        "submission_list = []\n",
        "test_dir = \"test_images\"\n",
        "suspect_dir = \"suspects/content/drive/Shareddrives/ZINDI Data Science/ADPL/Competition Data/CV/Data Prep/Test (0-1599)/merged/crops\"\n",
        "\n",
        "def detect(image_name):\n",
        "    \"\"\"\n",
        "    \n",
        "    \"\"\"\n",
        "    print(image_name)\n",
        "    image_path = os.path.join(test_dir, image_name)\n",
        "    suspect_path = os.path.join(suspect_dir, image_name)\n",
        "    objects_detected = []\n",
        "    img = cv2.imread(image_path)\n",
        "    suspect = cv2.imread(suspect_path)\n",
        "    results = yolo_model(img)\n",
        "    boxes = results[0].boxes\n",
        "    \n",
        "\n",
        "    for box in boxes:\n",
        "      confidence = box.conf.tolist() #confidence level\n",
        "      x1n,y1n,x2n,y2n = torch.squeeze(box.xyxyn).tolist()\n",
        "      x1,y1,x2,y2 = torch.squeeze(box.xyxy).tolist()\n",
        "      plushie = img[int(y1):int(y2), int(x1):int(x2)]        \n",
        "      classification, _ = infer(reid_model, plushie, suspect, Transforms())\n",
        "      objects_detected.append({'Image_ID': image_name[:-4], 'class': classification.item(), 'confidence': confidence[0], 'ymin':y1n, 'xmin':x1n, 'ymax':y2n, 'xmax':x2n })\n",
        "    return objects_detected\n",
        "\n",
        "\n",
        "for image in os.listdir(test_dir):\n",
        "        submit = detect(image)\n",
        "        for obj in submit:\n",
        "            submission_list.append(obj)\n",
        "\n",
        "submission_df = pd.DataFrame(submission_list)\n",
        "submission_df.to_csv('submission7.csv', index=False)\n",
        "\n",
        "\n",
        "\n",
        "# with open('', 'w', newline='') as f:\n",
        "#     writer = csv.writer(f)"
      ],
      "metadata": {
        "id": "F0NFp8quch_D"
      },
      "execution_count": null,
      "outputs": []
    }
  ]
}